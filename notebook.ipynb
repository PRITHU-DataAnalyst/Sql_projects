{
 "cells": [
  {
   "cell_type": "code",
   "source": "import pandas as pd\n\ndata_import = pd.read_csv(\"the_file.csv\")\ndata_import",
   "metadata": {
    "tags": [],
    "cell_id": "cda0b87d-faa0-4439-870f-22b776d37ded",
    "deepnote_to_be_reexecuted": false,
    "source_hash": "358b1aa0",
    "execution_start": 1661300484002,
    "execution_millis": 124,
    "deepnote_cell_type": "code",
    "deepnote_cell_height": 657.5625
   },
   "execution_count": 3,
   "outputs": [
    {
     "output_type": "execute_result",
     "execution_count": 3,
     "data": {
      "application/vnd.deepnote.dataframe.v3+json": {
       "column_count": 16,
       "row_count": 16719,
       "columns": [
        {
         "name": "Name",
         "dtype": "object",
         "stats": {
          "unique_count": 11562,
          "nan_count": 2,
          "categories": [
           {
            "name": "Need for Speed: Most Wanted",
            "count": 12
           },
           {
            "name": "11561 others",
            "count": 16705
           },
           {
            "name": "Missing",
            "count": 2
           }
          ]
         }
        },
        {
         "name": "Platform",
         "dtype": "object",
         "stats": {
          "unique_count": 31,
          "nan_count": 0,
          "categories": [
           {
            "name": "PS2",
            "count": 2161
           },
           {
            "name": "DS",
            "count": 2152
           },
           {
            "name": "29 others",
            "count": 12406
           }
          ]
         }
        },
        {
         "name": "Year_of_Release",
         "dtype": "float64",
         "stats": {
          "unique_count": 39,
          "nan_count": 269,
          "min": "1980.0",
          "max": "2020.0",
          "histogram": [
           {
            "bin_start": 1980,
            "bin_end": 1984,
            "count": 108
           },
           {
            "bin_start": 1984,
            "bin_end": 1988,
            "count": 65
           },
           {
            "bin_start": 1988,
            "bin_end": 1992,
            "count": 89
           },
           {
            "bin_start": 1992,
            "bin_end": 1996,
            "count": 445
           },
           {
            "bin_start": 1996,
            "bin_end": 2000,
            "count": 1269
           },
           {
            "bin_start": 2000,
            "bin_end": 2004,
            "count": 2436
           },
           {
            "bin_start": 2004,
            "bin_end": 2008,
            "count": 3904
           },
           {
            "bin_start": 2008,
            "bin_end": 2012,
            "count": 5244
           },
           {
            "bin_start": 2012,
            "bin_end": 2016,
            "count": 2384
           },
           {
            "bin_start": 2016,
            "bin_end": 2020,
            "count": 506
           }
          ]
         }
        },
        {
         "name": "Genre",
         "dtype": "object",
         "stats": {
          "unique_count": 12,
          "nan_count": 2,
          "categories": [
           {
            "name": "Action",
            "count": 3370
           },
           {
            "name": "11 others",
            "count": 13347
           },
           {
            "name": "Missing",
            "count": 2
           }
          ]
         }
        },
        {
         "name": "Publisher",
         "dtype": "object",
         "stats": {
          "unique_count": 581,
          "nan_count": 54,
          "categories": [
           {
            "name": "Electronic Arts",
            "count": 1356
           },
           {
            "name": "580 others",
            "count": 15309
           },
           {
            "name": "Missing",
            "count": 54
           }
          ]
         }
        },
        {
         "name": "NA_Sales",
         "dtype": "float64"
        },
        {
         "name": "EU_Sales",
         "dtype": "float64"
        },
        {
         "name": "JP_Sales",
         "dtype": "float64"
        },
        {
         "name": "Other_Sales",
         "dtype": "float64"
        },
        {
         "name": "Global_Sales",
         "dtype": "float64"
        },
        {
         "name": "Critic_Score",
         "dtype": "float64"
        },
        {
         "name": "Critic_Count",
         "dtype": "float64"
        },
        {
         "name": "User_Score",
         "dtype": "object"
        },
        {
         "name": "User_Count",
         "dtype": "float64"
        },
        {
         "name": "Developer",
         "dtype": "object"
        },
        {
         "name": "Rating",
         "dtype": "object"
        },
        {
         "name": "_deepnote_index_column",
         "dtype": "int64"
        }
       ],
       "rows": [
        {
         "Name": "Wii Sports",
         "Platform": "Wii",
         "Year_of_Release": 2006,
         "Genre": "Sports",
         "Publisher": "Nintendo",
         "NA_Sales": 41.36,
         "EU_Sales": 28.96,
         "JP_Sales": 3.77,
         "Other_Sales": 8.45,
         "Global_Sales": 82.53,
         "Critic_Score": 76,
         "Critic_Count": 51,
         "User_Score": "8",
         "User_Count": 322,
         "Developer": "Nintendo",
         "Rating": "E",
         "_deepnote_index_column": 0
        },
        {
         "Name": "Super Mario Bros.",
         "Platform": "NES",
         "Year_of_Release": 1985,
         "Genre": "Platform",
         "Publisher": "Nintendo",
         "NA_Sales": 29.08,
         "EU_Sales": 3.58,
         "JP_Sales": 6.81,
         "Other_Sales": 0.77,
         "Global_Sales": 40.24,
         "Critic_Score": "nan",
         "Critic_Count": "nan",
         "User_Score": "nan",
         "User_Count": "nan",
         "Developer": "nan",
         "Rating": "nan",
         "_deepnote_index_column": 1
        },
        {
         "Name": "Mario Kart Wii",
         "Platform": "Wii",
         "Year_of_Release": 2008,
         "Genre": "Racing",
         "Publisher": "Nintendo",
         "NA_Sales": 15.68,
         "EU_Sales": 12.76,
         "JP_Sales": 3.79,
         "Other_Sales": 3.29,
         "Global_Sales": 35.52,
         "Critic_Score": 82,
         "Critic_Count": 73,
         "User_Score": "8.3",
         "User_Count": 709,
         "Developer": "Nintendo",
         "Rating": "E",
         "_deepnote_index_column": 2
        },
        {
         "Name": "Wii Sports Resort",
         "Platform": "Wii",
         "Year_of_Release": 2009,
         "Genre": "Sports",
         "Publisher": "Nintendo",
         "NA_Sales": 15.61,
         "EU_Sales": 10.93,
         "JP_Sales": 3.28,
         "Other_Sales": 2.95,
         "Global_Sales": 32.77,
         "Critic_Score": 80,
         "Critic_Count": 73,
         "User_Score": "8",
         "User_Count": 192,
         "Developer": "Nintendo",
         "Rating": "E",
         "_deepnote_index_column": 3
        },
        {
         "Name": "Pokemon Red/Pokemon Blue",
         "Platform": "GB",
         "Year_of_Release": 1996,
         "Genre": "Role-Playing",
         "Publisher": "Nintendo",
         "NA_Sales": 11.27,
         "EU_Sales": 8.89,
         "JP_Sales": 10.22,
         "Other_Sales": 1,
         "Global_Sales": 31.37,
         "Critic_Score": "nan",
         "Critic_Count": "nan",
         "User_Score": "nan",
         "User_Count": "nan",
         "Developer": "nan",
         "Rating": "nan",
         "_deepnote_index_column": 4
        },
        {
         "Name": "Tetris",
         "Platform": "GB",
         "Year_of_Release": 1989,
         "Genre": "Puzzle",
         "Publisher": "Nintendo",
         "NA_Sales": 23.2,
         "EU_Sales": 2.26,
         "JP_Sales": 4.22,
         "Other_Sales": 0.58,
         "Global_Sales": 30.26,
         "Critic_Score": "nan",
         "Critic_Count": "nan",
         "User_Score": "nan",
         "User_Count": "nan",
         "Developer": "nan",
         "Rating": "nan",
         "_deepnote_index_column": 5
        },
        {
         "Name": "New Super Mario Bros.",
         "Platform": "DS",
         "Year_of_Release": 2006,
         "Genre": "Platform",
         "Publisher": "Nintendo",
         "NA_Sales": 11.28,
         "EU_Sales": 9.14,
         "JP_Sales": 6.5,
         "Other_Sales": 2.88,
         "Global_Sales": 29.8,
         "Critic_Score": 89,
         "Critic_Count": 65,
         "User_Score": "8.5",
         "User_Count": 431,
         "Developer": "Nintendo",
         "Rating": "E",
         "_deepnote_index_column": 6
        },
        {
         "Name": "Wii Play",
         "Platform": "Wii",
         "Year_of_Release": 2006,
         "Genre": "Misc",
         "Publisher": "Nintendo",
         "NA_Sales": 13.96,
         "EU_Sales": 9.18,
         "JP_Sales": 2.93,
         "Other_Sales": 2.84,
         "Global_Sales": 28.92,
         "Critic_Score": 58,
         "Critic_Count": 41,
         "User_Score": "6.6",
         "User_Count": 129,
         "Developer": "Nintendo",
         "Rating": "E",
         "_deepnote_index_column": 7
        },
        {
         "Name": "New Super Mario Bros. Wii",
         "Platform": "Wii",
         "Year_of_Release": 2009,
         "Genre": "Platform",
         "Publisher": "Nintendo",
         "NA_Sales": 14.44,
         "EU_Sales": 6.94,
         "JP_Sales": 4.7,
         "Other_Sales": 2.24,
         "Global_Sales": 28.32,
         "Critic_Score": 87,
         "Critic_Count": 80,
         "User_Score": "8.4",
         "User_Count": 594,
         "Developer": "Nintendo",
         "Rating": "E",
         "_deepnote_index_column": 8
        },
        {
         "Name": "Duck Hunt",
         "Platform": "NES",
         "Year_of_Release": 1984,
         "Genre": "Shooter",
         "Publisher": "Nintendo",
         "NA_Sales": 26.93,
         "EU_Sales": 0.63,
         "JP_Sales": 0.28,
         "Other_Sales": 0.47,
         "Global_Sales": 28.31,
         "Critic_Score": "nan",
         "Critic_Count": "nan",
         "User_Score": "nan",
         "User_Count": "nan",
         "Developer": "nan",
         "Rating": "nan",
         "_deepnote_index_column": 9
        }
       ]
      },
      "text/plain": "                                Name Platform  Year_of_Release         Genre  \\\n0                         Wii Sports      Wii           2006.0        Sports   \n1                  Super Mario Bros.      NES           1985.0      Platform   \n2                     Mario Kart Wii      Wii           2008.0        Racing   \n3                  Wii Sports Resort      Wii           2009.0        Sports   \n4           Pokemon Red/Pokemon Blue       GB           1996.0  Role-Playing   \n...                              ...      ...              ...           ...   \n16714  Samurai Warriors: Sanada Maru      PS3           2016.0        Action   \n16715               LMA Manager 2007     X360           2006.0        Sports   \n16716        Haitaka no Psychedelica      PSV           2016.0     Adventure   \n16717               Spirits & Spells      GBA           2003.0      Platform   \n16718            Winning Post 8 2016      PSV           2016.0    Simulation   \n\n          Publisher  NA_Sales  EU_Sales  JP_Sales  Other_Sales  Global_Sales  \\\n0          Nintendo     41.36     28.96      3.77         8.45         82.53   \n1          Nintendo     29.08      3.58      6.81         0.77         40.24   \n2          Nintendo     15.68     12.76      3.79         3.29         35.52   \n3          Nintendo     15.61     10.93      3.28         2.95         32.77   \n4          Nintendo     11.27      8.89     10.22         1.00         31.37   \n...             ...       ...       ...       ...          ...           ...   \n16714    Tecmo Koei      0.00      0.00      0.01         0.00          0.01   \n16715   Codemasters      0.00      0.01      0.00         0.00          0.01   \n16716  Idea Factory      0.00      0.00      0.01         0.00          0.01   \n16717       Wanadoo      0.01      0.00      0.00         0.00          0.01   \n16718    Tecmo Koei      0.00      0.00      0.01         0.00          0.01   \n\n       Critic_Score  Critic_Count User_Score  User_Count Developer Rating  \n0              76.0          51.0          8       322.0  Nintendo      E  \n1               NaN           NaN        NaN         NaN       NaN    NaN  \n2              82.0          73.0        8.3       709.0  Nintendo      E  \n3              80.0          73.0          8       192.0  Nintendo      E  \n4               NaN           NaN        NaN         NaN       NaN    NaN  \n...             ...           ...        ...         ...       ...    ...  \n16714           NaN           NaN        NaN         NaN       NaN    NaN  \n16715           NaN           NaN        NaN         NaN       NaN    NaN  \n16716           NaN           NaN        NaN         NaN       NaN    NaN  \n16717           NaN           NaN        NaN         NaN       NaN    NaN  \n16718           NaN           NaN        NaN         NaN       NaN    NaN  \n\n[16719 rows x 16 columns]",
      "text/html": "<div>\n<style scoped>\n    .dataframe tbody tr th:only-of-type {\n        vertical-align: middle;\n    }\n\n    .dataframe tbody tr th {\n        vertical-align: top;\n    }\n\n    .dataframe thead th {\n        text-align: right;\n    }\n</style>\n<table border=\"1\" class=\"dataframe\">\n  <thead>\n    <tr style=\"text-align: right;\">\n      <th></th>\n      <th>Name</th>\n      <th>Platform</th>\n      <th>Year_of_Release</th>\n      <th>Genre</th>\n      <th>Publisher</th>\n      <th>NA_Sales</th>\n      <th>EU_Sales</th>\n      <th>JP_Sales</th>\n      <th>Other_Sales</th>\n      <th>Global_Sales</th>\n      <th>Critic_Score</th>\n      <th>Critic_Count</th>\n      <th>User_Score</th>\n      <th>User_Count</th>\n      <th>Developer</th>\n      <th>Rating</th>\n    </tr>\n  </thead>\n  <tbody>\n    <tr>\n      <th>0</th>\n      <td>Wii Sports</td>\n      <td>Wii</td>\n      <td>2006.0</td>\n      <td>Sports</td>\n      <td>Nintendo</td>\n      <td>41.36</td>\n      <td>28.96</td>\n      <td>3.77</td>\n      <td>8.45</td>\n      <td>82.53</td>\n      <td>76.0</td>\n      <td>51.0</td>\n      <td>8</td>\n      <td>322.0</td>\n      <td>Nintendo</td>\n      <td>E</td>\n    </tr>\n    <tr>\n      <th>1</th>\n      <td>Super Mario Bros.</td>\n      <td>NES</td>\n      <td>1985.0</td>\n      <td>Platform</td>\n      <td>Nintendo</td>\n      <td>29.08</td>\n      <td>3.58</td>\n      <td>6.81</td>\n      <td>0.77</td>\n      <td>40.24</td>\n      <td>NaN</td>\n      <td>NaN</td>\n      <td>NaN</td>\n      <td>NaN</td>\n      <td>NaN</td>\n      <td>NaN</td>\n    </tr>\n    <tr>\n      <th>2</th>\n      <td>Mario Kart Wii</td>\n      <td>Wii</td>\n      <td>2008.0</td>\n      <td>Racing</td>\n      <td>Nintendo</td>\n      <td>15.68</td>\n      <td>12.76</td>\n      <td>3.79</td>\n      <td>3.29</td>\n      <td>35.52</td>\n      <td>82.0</td>\n      <td>73.0</td>\n      <td>8.3</td>\n      <td>709.0</td>\n      <td>Nintendo</td>\n      <td>E</td>\n    </tr>\n    <tr>\n      <th>3</th>\n      <td>Wii Sports Resort</td>\n      <td>Wii</td>\n      <td>2009.0</td>\n      <td>Sports</td>\n      <td>Nintendo</td>\n      <td>15.61</td>\n      <td>10.93</td>\n      <td>3.28</td>\n      <td>2.95</td>\n      <td>32.77</td>\n      <td>80.0</td>\n      <td>73.0</td>\n      <td>8</td>\n      <td>192.0</td>\n      <td>Nintendo</td>\n      <td>E</td>\n    </tr>\n    <tr>\n      <th>4</th>\n      <td>Pokemon Red/Pokemon Blue</td>\n      <td>GB</td>\n      <td>1996.0</td>\n      <td>Role-Playing</td>\n      <td>Nintendo</td>\n      <td>11.27</td>\n      <td>8.89</td>\n      <td>10.22</td>\n      <td>1.00</td>\n      <td>31.37</td>\n      <td>NaN</td>\n      <td>NaN</td>\n      <td>NaN</td>\n      <td>NaN</td>\n      <td>NaN</td>\n      <td>NaN</td>\n    </tr>\n    <tr>\n      <th>...</th>\n      <td>...</td>\n      <td>...</td>\n      <td>...</td>\n      <td>...</td>\n      <td>...</td>\n      <td>...</td>\n      <td>...</td>\n      <td>...</td>\n      <td>...</td>\n      <td>...</td>\n      <td>...</td>\n      <td>...</td>\n      <td>...</td>\n      <td>...</td>\n      <td>...</td>\n      <td>...</td>\n    </tr>\n    <tr>\n      <th>16714</th>\n      <td>Samurai Warriors: Sanada Maru</td>\n      <td>PS3</td>\n      <td>2016.0</td>\n      <td>Action</td>\n      <td>Tecmo Koei</td>\n      <td>0.00</td>\n      <td>0.00</td>\n      <td>0.01</td>\n      <td>0.00</td>\n      <td>0.01</td>\n      <td>NaN</td>\n      <td>NaN</td>\n      <td>NaN</td>\n      <td>NaN</td>\n      <td>NaN</td>\n      <td>NaN</td>\n    </tr>\n    <tr>\n      <th>16715</th>\n      <td>LMA Manager 2007</td>\n      <td>X360</td>\n      <td>2006.0</td>\n      <td>Sports</td>\n      <td>Codemasters</td>\n      <td>0.00</td>\n      <td>0.01</td>\n      <td>0.00</td>\n      <td>0.00</td>\n      <td>0.01</td>\n      <td>NaN</td>\n      <td>NaN</td>\n      <td>NaN</td>\n      <td>NaN</td>\n      <td>NaN</td>\n      <td>NaN</td>\n    </tr>\n    <tr>\n      <th>16716</th>\n      <td>Haitaka no Psychedelica</td>\n      <td>PSV</td>\n      <td>2016.0</td>\n      <td>Adventure</td>\n      <td>Idea Factory</td>\n      <td>0.00</td>\n      <td>0.00</td>\n      <td>0.01</td>\n      <td>0.00</td>\n      <td>0.01</td>\n      <td>NaN</td>\n      <td>NaN</td>\n      <td>NaN</td>\n      <td>NaN</td>\n      <td>NaN</td>\n      <td>NaN</td>\n    </tr>\n    <tr>\n      <th>16717</th>\n      <td>Spirits &amp; Spells</td>\n      <td>GBA</td>\n      <td>2003.0</td>\n      <td>Platform</td>\n      <td>Wanadoo</td>\n      <td>0.01</td>\n      <td>0.00</td>\n      <td>0.00</td>\n      <td>0.00</td>\n      <td>0.01</td>\n      <td>NaN</td>\n      <td>NaN</td>\n      <td>NaN</td>\n      <td>NaN</td>\n      <td>NaN</td>\n      <td>NaN</td>\n    </tr>\n    <tr>\n      <th>16718</th>\n      <td>Winning Post 8 2016</td>\n      <td>PSV</td>\n      <td>2016.0</td>\n      <td>Simulation</td>\n      <td>Tecmo Koei</td>\n      <td>0.00</td>\n      <td>0.00</td>\n      <td>0.01</td>\n      <td>0.00</td>\n      <td>0.01</td>\n      <td>NaN</td>\n      <td>NaN</td>\n      <td>NaN</td>\n      <td>NaN</td>\n      <td>NaN</td>\n      <td>NaN</td>\n    </tr>\n  </tbody>\n</table>\n<p>16719 rows × 16 columns</p>\n</div>"
     },
     "metadata": {}
    }
   ]
  },
  {
   "cell_type": "code",
   "source": "\n\ndf_1 = _deepnote_execute_sql(\"\"\"select \n    publisher, \n    count(publisher) \nfrom data_import \ngroup by publisher\norder by 2 desc\n\n\"\"\", 'SQL_DEEPNOTE_DATAFRAME_SQL')\ndf_1",
   "metadata": {
    "tags": [],
    "deepnote_variable_name": "df_1",
    "sql_integration_id": "deepnote-dataframe-sql",
    "cell_id": "979975ba4dae40168d353d0ea452a6a9",
    "deepnote_to_be_reexecuted": false,
    "source_hash": "b7d03675",
    "execution_start": 1661300739712,
    "execution_millis": 191,
    "deepnote_cell_type": "sql",
    "deepnote_sql_source": "select \n    publisher, \n    count(publisher) \nfrom data_import \ngroup by publisher\norder by 2 desc\n",
    "deepnote_cell_height": 743
   },
   "outputs": [
    {
     "output_type": "execute_result",
     "execution_count": 10,
     "data": {
      "application/vnd.deepnote.dataframe.v3+json": {
       "column_count": 2,
       "row_count": 582,
       "columns": [
        {
         "name": "Publisher",
         "dtype": "object",
         "stats": {
          "unique_count": 581,
          "nan_count": 1,
          "categories": [
           {
            "name": "Electronic Arts",
            "count": 1
           },
           {
            "name": "580 others",
            "count": 580
           },
           {
            "name": "Missing",
            "count": 1
           }
          ]
         }
        },
        {
         "name": "count(publisher)",
         "dtype": "int64",
         "stats": {
          "unique_count": 84,
          "nan_count": 0,
          "min": "0",
          "max": "1356",
          "histogram": [
           {
            "bin_start": 0,
            "bin_end": 135.6,
            "count": 557
           },
           {
            "bin_start": 135.6,
            "bin_end": 271.2,
            "count": 12
           },
           {
            "bin_start": 271.2,
            "bin_end": 406.79999999999995,
            "count": 3
           },
           {
            "bin_start": 406.79999999999995,
            "bin_end": 542.4,
            "count": 1
           },
           {
            "bin_start": 542.4,
            "bin_end": 678,
            "count": 1
           },
           {
            "bin_start": 678,
            "bin_end": 813.5999999999999,
            "count": 3
           },
           {
            "bin_start": 813.5999999999999,
            "bin_end": 949.1999999999999,
            "count": 3
           },
           {
            "bin_start": 949.1999999999999,
            "bin_end": 1084.8,
            "count": 1
           },
           {
            "bin_start": 1084.8,
            "bin_end": 1220.3999999999999,
            "count": 0
           },
           {
            "bin_start": 1220.3999999999999,
            "bin_end": 1356,
            "count": 1
           }
          ]
         }
        },
        {
         "name": "_deepnote_index_column",
         "dtype": "int64"
        }
       ],
       "rows": [
        {
         "Publisher": "Electronic Arts",
         "count(publisher)": 1356,
         "_deepnote_index_column": 0
        },
        {
         "Publisher": "Activision",
         "count(publisher)": 985,
         "_deepnote_index_column": 1
        },
        {
         "Publisher": "Namco Bandai Games",
         "count(publisher)": 939,
         "_deepnote_index_column": 2
        },
        {
         "Publisher": "Ubisoft",
         "count(publisher)": 933,
         "_deepnote_index_column": 3
        },
        {
         "Publisher": "Konami Digital Entertainment",
         "count(publisher)": 834,
         "_deepnote_index_column": 4
        },
        {
         "Publisher": "THQ",
         "count(publisher)": 715,
         "_deepnote_index_column": 5
        },
        {
         "Publisher": "Nintendo",
         "count(publisher)": 706,
         "_deepnote_index_column": 6
        },
        {
         "Publisher": "Sony Computer Entertainment",
         "count(publisher)": 687,
         "_deepnote_index_column": 7
        },
        {
         "Publisher": "Sega",
         "count(publisher)": 638,
         "_deepnote_index_column": 8
        },
        {
         "Publisher": "Take-Two Interactive",
         "count(publisher)": 422,
         "_deepnote_index_column": 9
        }
       ]
      },
      "text/plain": "                        Publisher  count(publisher)\n0                 Electronic Arts              1356\n1                      Activision               985\n2              Namco Bandai Games               939\n3                         Ubisoft               933\n4    Konami Digital Entertainment               834\n..                            ...               ...\n577               Marvelous Games                 1\n578                           ASK                 1\n579                        Piacci                 1\n580                     Ongakukan                 1\n581                          None                 0\n\n[582 rows x 2 columns]",
      "text/html": "<div>\n<style scoped>\n    .dataframe tbody tr th:only-of-type {\n        vertical-align: middle;\n    }\n\n    .dataframe tbody tr th {\n        vertical-align: top;\n    }\n\n    .dataframe thead th {\n        text-align: right;\n    }\n</style>\n<table border=\"1\" class=\"dataframe\">\n  <thead>\n    <tr style=\"text-align: right;\">\n      <th></th>\n      <th>Publisher</th>\n      <th>count(publisher)</th>\n    </tr>\n  </thead>\n  <tbody>\n    <tr>\n      <th>0</th>\n      <td>Electronic Arts</td>\n      <td>1356</td>\n    </tr>\n    <tr>\n      <th>1</th>\n      <td>Activision</td>\n      <td>985</td>\n    </tr>\n    <tr>\n      <th>2</th>\n      <td>Namco Bandai Games</td>\n      <td>939</td>\n    </tr>\n    <tr>\n      <th>3</th>\n      <td>Ubisoft</td>\n      <td>933</td>\n    </tr>\n    <tr>\n      <th>4</th>\n      <td>Konami Digital Entertainment</td>\n      <td>834</td>\n    </tr>\n    <tr>\n      <th>...</th>\n      <td>...</td>\n      <td>...</td>\n    </tr>\n    <tr>\n      <th>577</th>\n      <td>Marvelous Games</td>\n      <td>1</td>\n    </tr>\n    <tr>\n      <th>578</th>\n      <td>ASK</td>\n      <td>1</td>\n    </tr>\n    <tr>\n      <th>579</th>\n      <td>Piacci</td>\n      <td>1</td>\n    </tr>\n    <tr>\n      <th>580</th>\n      <td>Ongakukan</td>\n      <td>1</td>\n    </tr>\n    <tr>\n      <th>581</th>\n      <td>None</td>\n      <td>0</td>\n    </tr>\n  </tbody>\n</table>\n<p>582 rows × 2 columns</p>\n</div>"
     },
     "metadata": {}
    }
   ],
   "execution_count": 10
  },
  {
   "cell_type": "code",
   "source": "\n\ndf_3 = _deepnote_execute_sql(\"\"\"SELECT NAME,\n       year_of_release,\n       na_sales\nFROM   (\n              SELECT NAME,\n                     year_of_release,\n                     na_sales,\n                     Row_number() OVER (partition BY year_of_release) AS the_filter\n              FROM   (\n                              SELECT   NAME,\n                                       year_of_release,\n                                       na_sales\n                              FROM     data_import\n                              WHERE    year_of_release NOT null\n                              ORDER BY year_of_release,\n                                       na_sales DESC ) a ) b\nWHERE  the_filter < 6\n\"\"\", 'SQL_DEEPNOTE_DATAFRAME_SQL')\ndf_3",
   "metadata": {
    "tags": [],
    "deepnote_variable_name": "df_3",
    "sql_integration_id": "deepnote-dataframe-sql",
    "cell_id": "685ee29e87154623b145fd7c0d6aa22a",
    "deepnote_to_be_reexecuted": false,
    "source_hash": "bbfd1ec3",
    "execution_start": 1661301393558,
    "execution_millis": 833,
    "deepnote_table_state": {
     "pageSize": 25,
     "pageIndex": 0,
     "filters": [],
     "sortBy": []
    },
    "deepnote_table_loading": false,
    "deepnote_cell_type": "sql",
    "deepnote_sql_source": "SELECT NAME,\n       year_of_release,\n       na_sales\nFROM   (\n              SELECT NAME,\n                     year_of_release,\n                     na_sales,\n                     Row_number() OVER (partition BY year_of_release) AS the_filter\n              FROM   (\n                              SELECT   NAME,\n                                       year_of_release,\n                                       na_sales\n                              FROM     data_import\n                              WHERE    year_of_release NOT null\n                              ORDER BY year_of_release,\n                                       na_sales DESC ) a ) b\nWHERE  the_filter < 6",
    "deepnote_cell_height": 1538
   },
   "outputs": [
    {
     "output_type": "execute_result",
     "execution_count": 27,
     "data": {
      "application/vnd.deepnote.dataframe.v3+json": {
       "column_count": 3,
       "row_count": 189,
       "columns": [
        {
         "name": "Name",
         "dtype": "object",
         "stats": {
          "unique_count": 170,
          "nan_count": 1,
          "categories": [
           {
            "name": "Grand Theft Auto V",
            "count": 3
           },
           {
            "name": "169 others",
            "count": 185
           },
           {
            "name": "Missing",
            "count": 1
           }
          ]
         }
        },
        {
         "name": "Year_of_Release",
         "dtype": "float64",
         "stats": {
          "unique_count": 39,
          "nan_count": 0,
          "min": "1980.0",
          "max": "2020.0",
          "histogram": [
           {
            "bin_start": 1980,
            "bin_end": 1984,
            "count": 20
           },
           {
            "bin_start": 1984,
            "bin_end": 1988,
            "count": 20
           },
           {
            "bin_start": 1988,
            "bin_end": 1992,
            "count": 20
           },
           {
            "bin_start": 1992,
            "bin_end": 1996,
            "count": 20
           },
           {
            "bin_start": 1996,
            "bin_end": 2000,
            "count": 20
           },
           {
            "bin_start": 2000,
            "bin_end": 2004,
            "count": 20
           },
           {
            "bin_start": 2004,
            "bin_end": 2008,
            "count": 20
           },
           {
            "bin_start": 2008,
            "bin_end": 2012,
            "count": 20
           },
           {
            "bin_start": 2012,
            "bin_end": 2016,
            "count": 20
           },
           {
            "bin_start": 2016,
            "bin_end": 2020,
            "count": 9
           }
          ]
         }
        },
        {
         "name": "NA_Sales",
         "dtype": "float64",
         "stats": {
          "unique_count": 172,
          "nan_count": 0,
          "min": "0.0",
          "max": "41.36",
          "histogram": [
           {
            "bin_start": 0,
            "bin_end": 4.136,
            "count": 116
           },
           {
            "bin_start": 4.136,
            "bin_end": 8.272,
            "count": 48
           },
           {
            "bin_start": 8.272,
            "bin_end": 12.408000000000001,
            "count": 15
           },
           {
            "bin_start": 12.408000000000001,
            "bin_end": 16.544,
            "count": 6
           },
           {
            "bin_start": 16.544,
            "bin_end": 20.68,
            "count": 0
           },
           {
            "bin_start": 20.68,
            "bin_end": 24.816000000000003,
            "count": 1
           },
           {
            "bin_start": 24.816000000000003,
            "bin_end": 28.952,
            "count": 1
           },
           {
            "bin_start": 28.952,
            "bin_end": 33.088,
            "count": 1
           },
           {
            "bin_start": 33.088,
            "bin_end": 37.224000000000004,
            "count": 0
           },
           {
            "bin_start": 37.224000000000004,
            "bin_end": 41.36,
            "count": 1
           }
          ]
         }
        },
        {
         "name": "_deepnote_index_column",
         "dtype": "int64"
        }
       ],
       "rows": [
        {
         "Name": "Super Mario Bros.",
         "Year_of_Release": 1985,
         "NA_Sales": 29.08,
         "_deepnote_index_column": 0
        },
        {
         "Name": "Kung Fu",
         "Year_of_Release": 1985,
         "NA_Sales": 1.64,
         "_deepnote_index_column": 1
        },
        {
         "Name": "Gyromite",
         "Year_of_Release": 1985,
         "NA_Sales": 0.73,
         "_deepnote_index_column": 2
        },
        {
         "Name": "1942",
         "Year_of_Release": 1985,
         "NA_Sales": 0.65,
         "_deepnote_index_column": 3
        },
        {
         "Name": "Ice Climber",
         "Year_of_Release": 1985,
         "NA_Sales": 0.46,
         "_deepnote_index_column": 4
        },
        {
         "Name": "Super Mario World",
         "Year_of_Release": 1990,
         "NA_Sales": 12.78,
         "_deepnote_index_column": 5
        },
        {
         "Name": "Dr. Mario",
         "Year_of_Release": 1990,
         "NA_Sales": 2.62,
         "_deepnote_index_column": 6
        },
        {
         "Name": "Streets of Rage",
         "Year_of_Release": 1990,
         "NA_Sales": 1.86,
         "_deepnote_index_column": 7
        },
        {
         "Name": "Teenage Mutant Ninja Turtles II: The Arcade Game",
         "Year_of_Release": 1990,
         "NA_Sales": 1.74,
         "_deepnote_index_column": 8
        },
        {
         "Name": "F-1 Race",
         "Year_of_Release": 1990,
         "NA_Sales": 1.73,
         "_deepnote_index_column": 9
        },
        {
         "Name": "Call of Duty: Black Ops II",
         "Year_of_Release": 2012,
         "NA_Sales": 8.25,
         "_deepnote_index_column": 10
        },
        {
         "Name": "Halo 4",
         "Year_of_Release": 2012,
         "NA_Sales": 6.65,
         "_deepnote_index_column": 11
        },
        {
         "Name": "Call of Duty: Black Ops II",
         "Year_of_Release": 2012,
         "NA_Sales": 4.99,
         "_deepnote_index_column": 12
        },
        {
         "Name": "Just Dance 4",
         "Year_of_Release": 2012,
         "NA_Sales": 4.05,
         "_deepnote_index_column": 13
        },
        {
         "Name": "New Super Mario Bros. 2",
         "Year_of_Release": 2012,
         "NA_Sales": 3.66,
         "_deepnote_index_column": 14
        },
        {
         "Name": "Super Mario Bros. 3",
         "Year_of_Release": 1988,
         "NA_Sales": 9.54,
         "_deepnote_index_column": 15
        },
        {
         "Name": "Super Mario Bros. 2",
         "Year_of_Release": 1988,
         "NA_Sales": 5.39,
         "_deepnote_index_column": 16
        },
        {
         "Name": "Tetris",
         "Year_of_Release": 1988,
         "NA_Sales": 2.97,
         "_deepnote_index_column": 17
        },
        {
         "Name": "R.C. Pro-Am",
         "Year_of_Release": 1988,
         "NA_Sales": 1.47,
         "_deepnote_index_column": 18
        },
        {
         "Name": "Ice Hockey",
         "Year_of_Release": 1988,
         "NA_Sales": 1.27,
         "_deepnote_index_column": 19
        },
        {
         "Name": "Pokémon Yellow: Special Pikachu Edition",
         "Year_of_Release": 1998,
         "NA_Sales": 5.89,
         "_deepnote_index_column": 20
        },
        {
         "Name": "The Legend of Zelda: Ocarina of Time",
         "Year_of_Release": 1998,
         "NA_Sales": 4.1,
         "_deepnote_index_column": 21
        },
        {
         "Name": "Crash Bandicoot 3: Warped",
         "Year_of_Release": 1998,
         "NA_Sales": 3.68,
         "_deepnote_index_column": 22
        },
        {
         "Name": "Spyro the Dragon",
         "Year_of_Release": 1998,
         "NA_Sales": 3.36,
         "_deepnote_index_column": 23
        },
        {
         "Name": "Tekken 3",
         "Year_of_Release": 1998,
         "NA_Sales": 3.27,
         "_deepnote_index_column": 24
        }
       ]
      },
      "text/plain": "                               Name  Year_of_Release  NA_Sales\n0                 Super Mario Bros.           1985.0     29.08\n1                           Kung Fu           1985.0      1.64\n2                          Gyromite           1985.0      0.73\n3                              1942           1985.0      0.65\n4                       Ice Climber           1985.0      0.46\n..                              ...              ...       ...\n184       Call of Duty: Black Ops 3           2015.0      6.03\n185       Call of Duty: Black Ops 3           2015.0      4.59\n186    Star Wars Battlefront (2015)           2015.0      2.99\n187               Halo 5: Guardians           2015.0      2.78\n188  Gears of War: Ultimate Edition           2015.0      2.61\n\n[189 rows x 3 columns]",
      "text/html": "<div>\n<style scoped>\n    .dataframe tbody tr th:only-of-type {\n        vertical-align: middle;\n    }\n\n    .dataframe tbody tr th {\n        vertical-align: top;\n    }\n\n    .dataframe thead th {\n        text-align: right;\n    }\n</style>\n<table border=\"1\" class=\"dataframe\">\n  <thead>\n    <tr style=\"text-align: right;\">\n      <th></th>\n      <th>Name</th>\n      <th>Year_of_Release</th>\n      <th>NA_Sales</th>\n    </tr>\n  </thead>\n  <tbody>\n    <tr>\n      <th>0</th>\n      <td>Super Mario Bros.</td>\n      <td>1985.0</td>\n      <td>29.08</td>\n    </tr>\n    <tr>\n      <th>1</th>\n      <td>Kung Fu</td>\n      <td>1985.0</td>\n      <td>1.64</td>\n    </tr>\n    <tr>\n      <th>2</th>\n      <td>Gyromite</td>\n      <td>1985.0</td>\n      <td>0.73</td>\n    </tr>\n    <tr>\n      <th>3</th>\n      <td>1942</td>\n      <td>1985.0</td>\n      <td>0.65</td>\n    </tr>\n    <tr>\n      <th>4</th>\n      <td>Ice Climber</td>\n      <td>1985.0</td>\n      <td>0.46</td>\n    </tr>\n    <tr>\n      <th>...</th>\n      <td>...</td>\n      <td>...</td>\n      <td>...</td>\n    </tr>\n    <tr>\n      <th>184</th>\n      <td>Call of Duty: Black Ops 3</td>\n      <td>2015.0</td>\n      <td>6.03</td>\n    </tr>\n    <tr>\n      <th>185</th>\n      <td>Call of Duty: Black Ops 3</td>\n      <td>2015.0</td>\n      <td>4.59</td>\n    </tr>\n    <tr>\n      <th>186</th>\n      <td>Star Wars Battlefront (2015)</td>\n      <td>2015.0</td>\n      <td>2.99</td>\n    </tr>\n    <tr>\n      <th>187</th>\n      <td>Halo 5: Guardians</td>\n      <td>2015.0</td>\n      <td>2.78</td>\n    </tr>\n    <tr>\n      <th>188</th>\n      <td>Gears of War: Ultimate Edition</td>\n      <td>2015.0</td>\n      <td>2.61</td>\n    </tr>\n  </tbody>\n</table>\n<p>189 rows × 3 columns</p>\n</div>"
     },
     "metadata": {}
    }
   ],
   "execution_count": 27
  },
  {
   "cell_type": "code",
   "source": "\n\ndf_4 = _deepnote_execute_sql(\"\"\"select MAX(NA_sales)\nfrom data_import\nwhere year_of_release = 2012\n\n-- What is the best selling game in 2012\n\"\"\", 'SQL_DEEPNOTE_DATAFRAME_SQL')\ndf_4",
   "metadata": {
    "tags": [],
    "deepnote_variable_name": "df_4",
    "sql_integration_id": "deepnote-dataframe-sql",
    "cell_id": "b3da799eb2234b6b96d4ca800d34806f",
    "deepnote_to_be_reexecuted": false,
    "source_hash": "cd9516b6",
    "execution_start": 1661301680882,
    "execution_millis": 56,
    "deepnote_cell_type": "sql",
    "deepnote_sql_source": "select MAX(NA_sales)\nfrom data_import\nwhere year_of_release = 2012\n\n-- What is the best selling game in 2012",
    "deepnote_cell_height": 338
   },
   "outputs": [
    {
     "output_type": "execute_result",
     "execution_count": 28,
     "data": {
      "application/vnd.deepnote.dataframe.v3+json": {
       "column_count": 1,
       "row_count": 1,
       "columns": [
        {
         "name": "max(\"NA_sales\")",
         "dtype": "float64",
         "stats": {
          "unique_count": 1,
          "nan_count": 0,
          "min": "8.25",
          "max": "8.25",
          "histogram": [
           {
            "bin_start": 7.75,
            "bin_end": 7.85,
            "count": 0
           },
           {
            "bin_start": 7.85,
            "bin_end": 7.95,
            "count": 0
           },
           {
            "bin_start": 7.95,
            "bin_end": 8.05,
            "count": 0
           },
           {
            "bin_start": 8.05,
            "bin_end": 8.15,
            "count": 0
           },
           {
            "bin_start": 8.15,
            "bin_end": 8.25,
            "count": 0
           },
           {
            "bin_start": 8.25,
            "bin_end": 8.35,
            "count": 1
           },
           {
            "bin_start": 8.35,
            "bin_end": 8.45,
            "count": 0
           },
           {
            "bin_start": 8.45,
            "bin_end": 8.55,
            "count": 0
           },
           {
            "bin_start": 8.55,
            "bin_end": 8.65,
            "count": 0
           },
           {
            "bin_start": 8.65,
            "bin_end": 8.75,
            "count": 0
           }
          ]
         }
        },
        {
         "name": "_deepnote_index_column",
         "dtype": "int64"
        }
       ],
       "rows": [
        {
         "max(\"NA_sales\")": 8.25,
         "_deepnote_index_column": 0
        }
       ]
      },
      "text/plain": "   max(\"NA_sales\")\n0             8.25",
      "text/html": "<div>\n<style scoped>\n    .dataframe tbody tr th:only-of-type {\n        vertical-align: middle;\n    }\n\n    .dataframe tbody tr th {\n        vertical-align: top;\n    }\n\n    .dataframe thead th {\n        text-align: right;\n    }\n</style>\n<table border=\"1\" class=\"dataframe\">\n  <thead>\n    <tr style=\"text-align: right;\">\n      <th></th>\n      <th>max(\"NA_sales\")</th>\n    </tr>\n  </thead>\n  <tbody>\n    <tr>\n      <th>0</th>\n      <td>8.25</td>\n    </tr>\n  </tbody>\n</table>\n</div>"
     },
     "metadata": {}
    }
   ],
   "execution_count": 28
  },
  {
   "cell_type": "code",
   "source": "\n\ndf_5 = _deepnote_execute_sql(\"\"\"select *\nfrom data_import\nwhere name = 'Call of Duty: Black Ops II' -- year_of_release = 2012 and NA_sales = 8.25\n\"\"\", 'SQL_DEEPNOTE_DATAFRAME_SQL')\ndf_5",
   "metadata": {
    "tags": [],
    "deepnote_variable_name": "df_5",
    "sql_integration_id": "deepnote-dataframe-sql",
    "cell_id": "0041623e1281446990e7f0ca47b7ffea",
    "deepnote_to_be_reexecuted": false,
    "source_hash": "c67e20d4",
    "execution_start": 1661301781016,
    "execution_millis": 94,
    "deepnote_cell_type": "sql",
    "deepnote_sql_source": "select *\nfrom data_import\nwhere name = 'Call of Duty: Black Ops II' -- year_of_release = 2012 and NA_sales = 8.25",
    "deepnote_cell_height": 310.5625
   },
   "outputs": [
    {
     "output_type": "execute_result",
     "execution_count": 30,
     "data": {
      "application/vnd.deepnote.dataframe.v3+json": {
       "column_count": 16,
       "row_count": 4,
       "columns": [
        {
         "name": "Name",
         "dtype": "object",
         "stats": {
          "unique_count": 1,
          "nan_count": 0,
          "categories": [
           {
            "name": "Call of Duty: Black Ops II",
            "count": 4
           }
          ]
         }
        },
        {
         "name": "Platform",
         "dtype": "object",
         "stats": {
          "unique_count": 4,
          "nan_count": 0,
          "categories": [
           {
            "name": "PS3",
            "count": 1
           },
           {
            "name": "X360",
            "count": 1
           },
           {
            "name": "2 others",
            "count": 2
           }
          ]
         }
        },
        {
         "name": "Year_of_Release",
         "dtype": "float64",
         "stats": {
          "unique_count": 1,
          "nan_count": 0,
          "min": "2012.0",
          "max": "2012.0",
          "histogram": [
           {
            "bin_start": 2011.5,
            "bin_end": 2011.6,
            "count": 0
           },
           {
            "bin_start": 2011.6,
            "bin_end": 2011.7,
            "count": 0
           },
           {
            "bin_start": 2011.7,
            "bin_end": 2011.8,
            "count": 0
           },
           {
            "bin_start": 2011.8,
            "bin_end": 2011.9,
            "count": 0
           },
           {
            "bin_start": 2011.9,
            "bin_end": 2012,
            "count": 0
           },
           {
            "bin_start": 2012,
            "bin_end": 2012.1,
            "count": 4
           },
           {
            "bin_start": 2012.1,
            "bin_end": 2012.2,
            "count": 0
           },
           {
            "bin_start": 2012.2,
            "bin_end": 2012.3,
            "count": 0
           },
           {
            "bin_start": 2012.3,
            "bin_end": 2012.4,
            "count": 0
           },
           {
            "bin_start": 2012.4,
            "bin_end": 2012.5,
            "count": 0
           }
          ]
         }
        },
        {
         "name": "Genre",
         "dtype": "object",
         "stats": {
          "unique_count": 1,
          "nan_count": 0,
          "categories": [
           {
            "name": "Shooter",
            "count": 4
           }
          ]
         }
        },
        {
         "name": "Publisher",
         "dtype": "object",
         "stats": {
          "unique_count": 1,
          "nan_count": 0,
          "categories": [
           {
            "name": "Activision",
            "count": 4
           }
          ]
         }
        },
        {
         "name": "NA_Sales",
         "dtype": "float64",
         "stats": {
          "unique_count": 4,
          "nan_count": 0,
          "min": "0.2",
          "max": "8.25",
          "histogram": [
           {
            "bin_start": 0.2,
            "bin_end": 1.0050000000000001,
            "count": 2
           },
           {
            "bin_start": 1.0050000000000001,
            "bin_end": 1.81,
            "count": 0
           },
           {
            "bin_start": 1.81,
            "bin_end": 2.615,
            "count": 0
           },
           {
            "bin_start": 2.615,
            "bin_end": 3.4200000000000004,
            "count": 0
           },
           {
            "bin_start": 3.4200000000000004,
            "bin_end": 4.2250000000000005,
            "count": 0
           },
           {
            "bin_start": 4.2250000000000005,
            "bin_end": 5.03,
            "count": 1
           },
           {
            "bin_start": 5.03,
            "bin_end": 5.835000000000001,
            "count": 0
           },
           {
            "bin_start": 5.835000000000001,
            "bin_end": 6.640000000000001,
            "count": 0
           },
           {
            "bin_start": 6.640000000000001,
            "bin_end": 7.445,
            "count": 0
           },
           {
            "bin_start": 7.445,
            "bin_end": 8.25,
            "count": 1
           }
          ]
         }
        },
        {
         "name": "EU_Sales",
         "dtype": "float64",
         "stats": {
          "unique_count": 4,
          "nan_count": 0,
          "min": "0.18",
          "max": "5.73",
          "histogram": [
           {
            "bin_start": 0.18,
            "bin_end": 0.7350000000000001,
            "count": 2
           },
           {
            "bin_start": 0.7350000000000001,
            "bin_end": 1.29,
            "count": 0
           },
           {
            "bin_start": 1.29,
            "bin_end": 1.845,
            "count": 0
           },
           {
            "bin_start": 1.845,
            "bin_end": 2.4000000000000004,
            "count": 0
           },
           {
            "bin_start": 2.4000000000000004,
            "bin_end": 2.9550000000000005,
            "count": 0
           },
           {
            "bin_start": 2.9550000000000005,
            "bin_end": 3.5100000000000002,
            "count": 0
           },
           {
            "bin_start": 3.5100000000000002,
            "bin_end": 4.065,
            "count": 0
           },
           {
            "bin_start": 4.065,
            "bin_end": 4.62,
            "count": 1
           },
           {
            "bin_start": 4.62,
            "bin_end": 5.175,
            "count": 0
           },
           {
            "bin_start": 5.175,
            "bin_end": 5.73,
            "count": 1
           }
          ]
         }
        },
        {
         "name": "JP_Sales",
         "dtype": "float64",
         "stats": {
          "unique_count": 3,
          "nan_count": 0,
          "min": "0.0",
          "max": "0.65",
          "histogram": [
           {
            "bin_start": 0,
            "bin_end": 0.065,
            "count": 2
           },
           {
            "bin_start": 0.065,
            "bin_end": 0.13,
            "count": 1
           },
           {
            "bin_start": 0.13,
            "bin_end": 0.195,
            "count": 0
           },
           {
            "bin_start": 0.195,
            "bin_end": 0.26,
            "count": 0
           },
           {
            "bin_start": 0.26,
            "bin_end": 0.325,
            "count": 0
           },
           {
            "bin_start": 0.325,
            "bin_end": 0.39,
            "count": 0
           },
           {
            "bin_start": 0.39,
            "bin_end": 0.455,
            "count": 0
           },
           {
            "bin_start": 0.455,
            "bin_end": 0.52,
            "count": 0
           },
           {
            "bin_start": 0.52,
            "bin_end": 0.585,
            "count": 0
           },
           {
            "bin_start": 0.585,
            "bin_end": 0.65,
            "count": 1
           }
          ]
         }
        },
        {
         "name": "Other_Sales",
         "dtype": "float64",
         "stats": {
          "unique_count": 4,
          "nan_count": 0,
          "min": "0.03",
          "max": "2.42",
          "histogram": [
           {
            "bin_start": 0.03,
            "bin_end": 0.269,
            "count": 2
           },
           {
            "bin_start": 0.269,
            "bin_end": 0.508,
            "count": 0
           },
           {
            "bin_start": 0.508,
            "bin_end": 0.7470000000000001,
            "count": 0
           },
           {
            "bin_start": 0.7470000000000001,
            "bin_end": 0.9860000000000001,
            "count": 0
           },
           {
            "bin_start": 0.9860000000000001,
            "bin_end": 1.225,
            "count": 1
           },
           {
            "bin_start": 1.225,
            "bin_end": 1.4640000000000002,
            "count": 0
           },
           {
            "bin_start": 1.4640000000000002,
            "bin_end": 1.703,
            "count": 0
           },
           {
            "bin_start": 1.703,
            "bin_end": 1.9420000000000002,
            "count": 0
           },
           {
            "bin_start": 1.9420000000000002,
            "bin_end": 2.181,
            "count": 0
           },
           {
            "bin_start": 2.181,
            "bin_end": 2.42,
            "count": 1
           }
          ]
         }
        },
        {
         "name": "Global_Sales",
         "dtype": "float64",
         "stats": {
          "unique_count": 4,
          "nan_count": 0,
          "min": "0.41",
          "max": "13.79",
          "histogram": [
           {
            "bin_start": 0.41,
            "bin_end": 1.7479999999999998,
            "count": 2
           },
           {
            "bin_start": 1.7479999999999998,
            "bin_end": 3.086,
            "count": 0
           },
           {
            "bin_start": 3.086,
            "bin_end": 4.4239999999999995,
            "count": 0
           },
           {
            "bin_start": 4.4239999999999995,
            "bin_end": 5.762,
            "count": 0
           },
           {
            "bin_start": 5.762,
            "bin_end": 7.1,
            "count": 0
           },
           {
            "bin_start": 7.1,
            "bin_end": 8.437999999999999,
            "count": 0
           },
           {
            "bin_start": 8.437999999999999,
            "bin_end": 9.776,
            "count": 0
           },
           {
            "bin_start": 9.776,
            "bin_end": 11.113999999999999,
            "count": 0
           },
           {
            "bin_start": 11.113999999999999,
            "bin_end": 12.451999999999998,
            "count": 0
           },
           {
            "bin_start": 12.451999999999998,
            "bin_end": 13.79,
            "count": 2
           }
          ]
         }
        },
        {
         "name": "Critic_Score",
         "dtype": "float64",
         "stats": {
          "unique_count": 3,
          "nan_count": 0,
          "min": "74.0",
          "max": "83.0",
          "histogram": [
           {
            "bin_start": 74,
            "bin_end": 74.9,
            "count": 1
           },
           {
            "bin_start": 74.9,
            "bin_end": 75.8,
            "count": 0
           },
           {
            "bin_start": 75.8,
            "bin_end": 76.7,
            "count": 0
           },
           {
            "bin_start": 76.7,
            "bin_end": 77.6,
            "count": 0
           },
           {
            "bin_start": 77.6,
            "bin_end": 78.5,
            "count": 0
           },
           {
            "bin_start": 78.5,
            "bin_end": 79.4,
            "count": 0
           },
           {
            "bin_start": 79.4,
            "bin_end": 80.3,
            "count": 0
           },
           {
            "bin_start": 80.3,
            "bin_end": 81.2,
            "count": 1
           },
           {
            "bin_start": 81.2,
            "bin_end": 82.1,
            "count": 0
           },
           {
            "bin_start": 82.1,
            "bin_end": 83,
            "count": 2
           }
          ]
         }
        },
        {
         "name": "Critic_Count",
         "dtype": "float64",
         "stats": {
          "unique_count": 4,
          "nan_count": 0,
          "min": "11.0",
          "max": "73.0",
          "histogram": [
           {
            "bin_start": 11,
            "bin_end": 17.2,
            "count": 1
           },
           {
            "bin_start": 17.2,
            "bin_end": 23.4,
            "count": 1
           },
           {
            "bin_start": 23.4,
            "bin_end": 29.6,
            "count": 0
           },
           {
            "bin_start": 29.6,
            "bin_end": 35.8,
            "count": 1
           },
           {
            "bin_start": 35.8,
            "bin_end": 42,
            "count": 0
           },
           {
            "bin_start": 42,
            "bin_end": 48.2,
            "count": 0
           },
           {
            "bin_start": 48.2,
            "bin_end": 54.4,
            "count": 0
           },
           {
            "bin_start": 54.4,
            "bin_end": 60.6,
            "count": 0
           },
           {
            "bin_start": 60.6,
            "bin_end": 66.80000000000001,
            "count": 0
           },
           {
            "bin_start": 66.80000000000001,
            "bin_end": 73,
            "count": 1
           }
          ]
         }
        },
        {
         "name": "User_Score",
         "dtype": "object",
         "stats": {
          "unique_count": 4,
          "nan_count": 0,
          "categories": [
           {
            "name": "5.3",
            "count": 1
           },
           {
            "name": "4.8",
            "count": 1
           },
           {
            "name": "2 others",
            "count": 2
           }
          ]
         }
        },
        {
         "name": "User_Count",
         "dtype": "float64",
         "stats": {
          "unique_count": 4,
          "nan_count": 0,
          "min": "228.0",
          "max": "2256.0",
          "histogram": [
           {
            "bin_start": 228,
            "bin_end": 430.8,
            "count": 1
           },
           {
            "bin_start": 430.8,
            "bin_end": 633.6,
            "count": 0
           },
           {
            "bin_start": 633.6,
            "bin_end": 836.4000000000001,
            "count": 0
           },
           {
            "bin_start": 836.4000000000001,
            "bin_end": 1039.2,
            "count": 1
           },
           {
            "bin_start": 1039.2,
            "bin_end": 1242,
            "count": 0
           },
           {
            "bin_start": 1242,
            "bin_end": 1444.8000000000002,
            "count": 0
           },
           {
            "bin_start": 1444.8000000000002,
            "bin_end": 1647.6000000000001,
            "count": 1
           },
           {
            "bin_start": 1647.6000000000001,
            "bin_end": 1850.4,
            "count": 0
           },
           {
            "bin_start": 1850.4,
            "bin_end": 2053.2,
            "count": 0
           },
           {
            "bin_start": 2053.2,
            "bin_end": 2256,
            "count": 1
           }
          ]
         }
        },
        {
         "name": "Developer",
         "dtype": "object",
         "stats": {
          "unique_count": 1,
          "nan_count": 0,
          "categories": [
           {
            "name": "Treyarch",
            "count": 4
           }
          ]
         }
        },
        {
         "name": "Rating",
         "dtype": "object",
         "stats": {
          "unique_count": 1,
          "nan_count": 0,
          "categories": [
           {
            "name": "M",
            "count": 4
           }
          ]
         }
        },
        {
         "name": "_deepnote_index_column",
         "dtype": "int64"
        }
       ],
       "rows": [
        {
         "Name": "Call of Duty: Black Ops II",
         "Platform": "PS3",
         "Year_of_Release": 2012,
         "Genre": "Shooter",
         "Publisher": "Activision",
         "NA_Sales": 4.99,
         "EU_Sales": 5.73,
         "JP_Sales": 0.65,
         "Other_Sales": 2.42,
         "Global_Sales": 13.79,
         "Critic_Score": 83,
         "Critic_Count": 21,
         "User_Score": "5.3",
         "User_Count": 922,
         "Developer": "Treyarch",
         "Rating": "M",
         "_deepnote_index_column": 0
        },
        {
         "Name": "Call of Duty: Black Ops II",
         "Platform": "X360",
         "Year_of_Release": 2012,
         "Genre": "Shooter",
         "Publisher": "Activision",
         "NA_Sales": 8.25,
         "EU_Sales": 4.24,
         "JP_Sales": 0.07,
         "Other_Sales": 1.12,
         "Global_Sales": 13.67,
         "Critic_Score": 83,
         "Critic_Count": 73,
         "User_Score": "4.8",
         "User_Count": 2256,
         "Developer": "Treyarch",
         "Rating": "M",
         "_deepnote_index_column": 1
        },
        {
         "Name": "Call of Duty: Black Ops II",
         "Platform": "PC",
         "Year_of_Release": 2012,
         "Genre": "Shooter",
         "Publisher": "Activision",
         "NA_Sales": 0.64,
         "EU_Sales": 0.69,
         "JP_Sales": 0,
         "Other_Sales": 0.19,
         "Global_Sales": 1.53,
         "Critic_Score": 74,
         "Critic_Count": 11,
         "User_Score": "4.2",
         "User_Count": 1635,
         "Developer": "Treyarch",
         "Rating": "M",
         "_deepnote_index_column": 2
        },
        {
         "Name": "Call of Duty: Black Ops II",
         "Platform": "WiiU",
         "Year_of_Release": 2012,
         "Genre": "Shooter",
         "Publisher": "Activision",
         "NA_Sales": 0.2,
         "EU_Sales": 0.18,
         "JP_Sales": 0,
         "Other_Sales": 0.03,
         "Global_Sales": 0.41,
         "Critic_Score": 81,
         "Critic_Count": 31,
         "User_Score": "6.9",
         "User_Count": 228,
         "Developer": "Treyarch",
         "Rating": "M",
         "_deepnote_index_column": 3
        }
       ]
      },
      "text/plain": "                         Name Platform  Year_of_Release    Genre   Publisher  \\\n0  Call of Duty: Black Ops II      PS3           2012.0  Shooter  Activision   \n1  Call of Duty: Black Ops II     X360           2012.0  Shooter  Activision   \n2  Call of Duty: Black Ops II       PC           2012.0  Shooter  Activision   \n3  Call of Duty: Black Ops II     WiiU           2012.0  Shooter  Activision   \n\n   NA_Sales  EU_Sales  JP_Sales  Other_Sales  Global_Sales  Critic_Score  \\\n0      4.99      5.73      0.65         2.42         13.79          83.0   \n1      8.25      4.24      0.07         1.12         13.67          83.0   \n2      0.64      0.69      0.00         0.19          1.53          74.0   \n3      0.20      0.18      0.00         0.03          0.41          81.0   \n\n   Critic_Count User_Score  User_Count Developer Rating  \n0          21.0        5.3       922.0  Treyarch      M  \n1          73.0        4.8      2256.0  Treyarch      M  \n2          11.0        4.2      1635.0  Treyarch      M  \n3          31.0        6.9       228.0  Treyarch      M  ",
      "text/html": "<div>\n<style scoped>\n    .dataframe tbody tr th:only-of-type {\n        vertical-align: middle;\n    }\n\n    .dataframe tbody tr th {\n        vertical-align: top;\n    }\n\n    .dataframe thead th {\n        text-align: right;\n    }\n</style>\n<table border=\"1\" class=\"dataframe\">\n  <thead>\n    <tr style=\"text-align: right;\">\n      <th></th>\n      <th>Name</th>\n      <th>Platform</th>\n      <th>Year_of_Release</th>\n      <th>Genre</th>\n      <th>Publisher</th>\n      <th>NA_Sales</th>\n      <th>EU_Sales</th>\n      <th>JP_Sales</th>\n      <th>Other_Sales</th>\n      <th>Global_Sales</th>\n      <th>Critic_Score</th>\n      <th>Critic_Count</th>\n      <th>User_Score</th>\n      <th>User_Count</th>\n      <th>Developer</th>\n      <th>Rating</th>\n    </tr>\n  </thead>\n  <tbody>\n    <tr>\n      <th>0</th>\n      <td>Call of Duty: Black Ops II</td>\n      <td>PS3</td>\n      <td>2012.0</td>\n      <td>Shooter</td>\n      <td>Activision</td>\n      <td>4.99</td>\n      <td>5.73</td>\n      <td>0.65</td>\n      <td>2.42</td>\n      <td>13.79</td>\n      <td>83.0</td>\n      <td>21.0</td>\n      <td>5.3</td>\n      <td>922.0</td>\n      <td>Treyarch</td>\n      <td>M</td>\n    </tr>\n    <tr>\n      <th>1</th>\n      <td>Call of Duty: Black Ops II</td>\n      <td>X360</td>\n      <td>2012.0</td>\n      <td>Shooter</td>\n      <td>Activision</td>\n      <td>8.25</td>\n      <td>4.24</td>\n      <td>0.07</td>\n      <td>1.12</td>\n      <td>13.67</td>\n      <td>83.0</td>\n      <td>73.0</td>\n      <td>4.8</td>\n      <td>2256.0</td>\n      <td>Treyarch</td>\n      <td>M</td>\n    </tr>\n    <tr>\n      <th>2</th>\n      <td>Call of Duty: Black Ops II</td>\n      <td>PC</td>\n      <td>2012.0</td>\n      <td>Shooter</td>\n      <td>Activision</td>\n      <td>0.64</td>\n      <td>0.69</td>\n      <td>0.00</td>\n      <td>0.19</td>\n      <td>1.53</td>\n      <td>74.0</td>\n      <td>11.0</td>\n      <td>4.2</td>\n      <td>1635.0</td>\n      <td>Treyarch</td>\n      <td>M</td>\n    </tr>\n    <tr>\n      <th>3</th>\n      <td>Call of Duty: Black Ops II</td>\n      <td>WiiU</td>\n      <td>2012.0</td>\n      <td>Shooter</td>\n      <td>Activision</td>\n      <td>0.20</td>\n      <td>0.18</td>\n      <td>0.00</td>\n      <td>0.03</td>\n      <td>0.41</td>\n      <td>81.0</td>\n      <td>31.0</td>\n      <td>6.9</td>\n      <td>228.0</td>\n      <td>Treyarch</td>\n      <td>M</td>\n    </tr>\n  </tbody>\n</table>\n</div>"
     },
     "metadata": {}
    }
   ],
   "execution_count": 30
  },
  {
   "cell_type": "code",
   "source": "\n\ndf_2 = _deepnote_execute_sql(\"\"\"select * from data_import\n\nname, year, NA_sales\n\ntop NA_sales year\n\"\"\", 'SQL_DEEPNOTE_DATAFRAME_SQL')\ndf_2",
   "metadata": {
    "tags": [],
    "deepnote_variable_name": "df_2",
    "sql_integration_id": "deepnote-dataframe-sql",
    "cell_id": "d8ffe22af9da44409087f6af439931b4",
    "deepnote_to_be_reexecuted": false,
    "source_hash": "e2b4a156",
    "execution_start": 1661301041656,
    "execution_millis": 183,
    "deepnote_cell_type": "sql",
    "deepnote_sql_source": "select * from data_import\n\nname, year, NA_sales\n\ntop NA_sales year",
    "deepnote_cell_height": 715.5625
   },
   "outputs": [
    {
     "output_type": "execute_result",
     "execution_count": 19,
     "data": {
      "application/vnd.deepnote.dataframe.v3+json": {
       "column_count": 16,
       "row_count": 16719,
       "columns": [
        {
         "name": "Name",
         "dtype": "object",
         "stats": {
          "unique_count": 11562,
          "nan_count": 2,
          "categories": [
           {
            "name": "Need for Speed: Most Wanted",
            "count": 12
           },
           {
            "name": "11561 others",
            "count": 16705
           },
           {
            "name": "Missing",
            "count": 2
           }
          ]
         }
        },
        {
         "name": "Platform",
         "dtype": "object",
         "stats": {
          "unique_count": 31,
          "nan_count": 0,
          "categories": [
           {
            "name": "PS2",
            "count": 2161
           },
           {
            "name": "DS",
            "count": 2152
           },
           {
            "name": "29 others",
            "count": 12406
           }
          ]
         }
        },
        {
         "name": "Year_of_Release",
         "dtype": "float64",
         "stats": {
          "unique_count": 39,
          "nan_count": 269,
          "min": "1980.0",
          "max": "2020.0",
          "histogram": [
           {
            "bin_start": 1980,
            "bin_end": 1984,
            "count": 108
           },
           {
            "bin_start": 1984,
            "bin_end": 1988,
            "count": 65
           },
           {
            "bin_start": 1988,
            "bin_end": 1992,
            "count": 89
           },
           {
            "bin_start": 1992,
            "bin_end": 1996,
            "count": 445
           },
           {
            "bin_start": 1996,
            "bin_end": 2000,
            "count": 1269
           },
           {
            "bin_start": 2000,
            "bin_end": 2004,
            "count": 2436
           },
           {
            "bin_start": 2004,
            "bin_end": 2008,
            "count": 3904
           },
           {
            "bin_start": 2008,
            "bin_end": 2012,
            "count": 5244
           },
           {
            "bin_start": 2012,
            "bin_end": 2016,
            "count": 2384
           },
           {
            "bin_start": 2016,
            "bin_end": 2020,
            "count": 506
           }
          ]
         }
        },
        {
         "name": "Genre",
         "dtype": "object",
         "stats": {
          "unique_count": 12,
          "nan_count": 2,
          "categories": [
           {
            "name": "Action",
            "count": 3370
           },
           {
            "name": "11 others",
            "count": 13347
           },
           {
            "name": "Missing",
            "count": 2
           }
          ]
         }
        },
        {
         "name": "Publisher",
         "dtype": "object",
         "stats": {
          "unique_count": 581,
          "nan_count": 54,
          "categories": [
           {
            "name": "Electronic Arts",
            "count": 1356
           },
           {
            "name": "580 others",
            "count": 15309
           },
           {
            "name": "Missing",
            "count": 54
           }
          ]
         }
        },
        {
         "name": "NA_Sales",
         "dtype": "float64"
        },
        {
         "name": "EU_Sales",
         "dtype": "float64"
        },
        {
         "name": "JP_Sales",
         "dtype": "float64"
        },
        {
         "name": "Other_Sales",
         "dtype": "float64"
        },
        {
         "name": "Global_Sales",
         "dtype": "float64"
        },
        {
         "name": "Critic_Score",
         "dtype": "float64"
        },
        {
         "name": "Critic_Count",
         "dtype": "float64"
        },
        {
         "name": "User_Score",
         "dtype": "object"
        },
        {
         "name": "User_Count",
         "dtype": "float64"
        },
        {
         "name": "Developer",
         "dtype": "object"
        },
        {
         "name": "Rating",
         "dtype": "object"
        },
        {
         "name": "_deepnote_index_column",
         "dtype": "int64"
        }
       ],
       "rows": [
        {
         "Name": "Wii Sports",
         "Platform": "Wii",
         "Year_of_Release": 2006,
         "Genre": "Sports",
         "Publisher": "Nintendo",
         "NA_Sales": 41.36,
         "EU_Sales": 28.96,
         "JP_Sales": 3.77,
         "Other_Sales": 8.45,
         "Global_Sales": 82.53,
         "Critic_Score": 76,
         "Critic_Count": 51,
         "User_Score": "8",
         "User_Count": 322,
         "Developer": "Nintendo",
         "Rating": "E",
         "_deepnote_index_column": 0
        },
        {
         "Name": "Super Mario Bros.",
         "Platform": "NES",
         "Year_of_Release": 1985,
         "Genre": "Platform",
         "Publisher": "Nintendo",
         "NA_Sales": 29.08,
         "EU_Sales": 3.58,
         "JP_Sales": 6.81,
         "Other_Sales": 0.77,
         "Global_Sales": 40.24,
         "Critic_Score": "nan",
         "Critic_Count": "nan",
         "User_Score": "None",
         "User_Count": "nan",
         "Developer": "None",
         "Rating": "None",
         "_deepnote_index_column": 1
        },
        {
         "Name": "Mario Kart Wii",
         "Platform": "Wii",
         "Year_of_Release": 2008,
         "Genre": "Racing",
         "Publisher": "Nintendo",
         "NA_Sales": 15.68,
         "EU_Sales": 12.76,
         "JP_Sales": 3.79,
         "Other_Sales": 3.29,
         "Global_Sales": 35.52,
         "Critic_Score": 82,
         "Critic_Count": 73,
         "User_Score": "8.3",
         "User_Count": 709,
         "Developer": "Nintendo",
         "Rating": "E",
         "_deepnote_index_column": 2
        },
        {
         "Name": "Wii Sports Resort",
         "Platform": "Wii",
         "Year_of_Release": 2009,
         "Genre": "Sports",
         "Publisher": "Nintendo",
         "NA_Sales": 15.61,
         "EU_Sales": 10.93,
         "JP_Sales": 3.28,
         "Other_Sales": 2.95,
         "Global_Sales": 32.77,
         "Critic_Score": 80,
         "Critic_Count": 73,
         "User_Score": "8",
         "User_Count": 192,
         "Developer": "Nintendo",
         "Rating": "E",
         "_deepnote_index_column": 3
        },
        {
         "Name": "Pokemon Red/Pokemon Blue",
         "Platform": "GB",
         "Year_of_Release": 1996,
         "Genre": "Role-Playing",
         "Publisher": "Nintendo",
         "NA_Sales": 11.27,
         "EU_Sales": 8.89,
         "JP_Sales": 10.22,
         "Other_Sales": 1,
         "Global_Sales": 31.37,
         "Critic_Score": "nan",
         "Critic_Count": "nan",
         "User_Score": "None",
         "User_Count": "nan",
         "Developer": "None",
         "Rating": "None",
         "_deepnote_index_column": 4
        },
        {
         "Name": "Tetris",
         "Platform": "GB",
         "Year_of_Release": 1989,
         "Genre": "Puzzle",
         "Publisher": "Nintendo",
         "NA_Sales": 23.2,
         "EU_Sales": 2.26,
         "JP_Sales": 4.22,
         "Other_Sales": 0.58,
         "Global_Sales": 30.26,
         "Critic_Score": "nan",
         "Critic_Count": "nan",
         "User_Score": "None",
         "User_Count": "nan",
         "Developer": "None",
         "Rating": "None",
         "_deepnote_index_column": 5
        },
        {
         "Name": "New Super Mario Bros.",
         "Platform": "DS",
         "Year_of_Release": 2006,
         "Genre": "Platform",
         "Publisher": "Nintendo",
         "NA_Sales": 11.28,
         "EU_Sales": 9.14,
         "JP_Sales": 6.5,
         "Other_Sales": 2.88,
         "Global_Sales": 29.8,
         "Critic_Score": 89,
         "Critic_Count": 65,
         "User_Score": "8.5",
         "User_Count": 431,
         "Developer": "Nintendo",
         "Rating": "E",
         "_deepnote_index_column": 6
        },
        {
         "Name": "Wii Play",
         "Platform": "Wii",
         "Year_of_Release": 2006,
         "Genre": "Misc",
         "Publisher": "Nintendo",
         "NA_Sales": 13.96,
         "EU_Sales": 9.18,
         "JP_Sales": 2.93,
         "Other_Sales": 2.84,
         "Global_Sales": 28.92,
         "Critic_Score": 58,
         "Critic_Count": 41,
         "User_Score": "6.6",
         "User_Count": 129,
         "Developer": "Nintendo",
         "Rating": "E",
         "_deepnote_index_column": 7
        },
        {
         "Name": "New Super Mario Bros. Wii",
         "Platform": "Wii",
         "Year_of_Release": 2009,
         "Genre": "Platform",
         "Publisher": "Nintendo",
         "NA_Sales": 14.44,
         "EU_Sales": 6.94,
         "JP_Sales": 4.7,
         "Other_Sales": 2.24,
         "Global_Sales": 28.32,
         "Critic_Score": 87,
         "Critic_Count": 80,
         "User_Score": "8.4",
         "User_Count": 594,
         "Developer": "Nintendo",
         "Rating": "E",
         "_deepnote_index_column": 8
        },
        {
         "Name": "Duck Hunt",
         "Platform": "NES",
         "Year_of_Release": 1984,
         "Genre": "Shooter",
         "Publisher": "Nintendo",
         "NA_Sales": 26.93,
         "EU_Sales": 0.63,
         "JP_Sales": 0.28,
         "Other_Sales": 0.47,
         "Global_Sales": 28.31,
         "Critic_Score": "nan",
         "Critic_Count": "nan",
         "User_Score": "None",
         "User_Count": "nan",
         "Developer": "None",
         "Rating": "None",
         "_deepnote_index_column": 9
        }
       ]
      },
      "text/plain": "                                Name Platform  Year_of_Release         Genre  \\\n0                         Wii Sports      Wii           2006.0        Sports   \n1                  Super Mario Bros.      NES           1985.0      Platform   \n2                     Mario Kart Wii      Wii           2008.0        Racing   \n3                  Wii Sports Resort      Wii           2009.0        Sports   \n4           Pokemon Red/Pokemon Blue       GB           1996.0  Role-Playing   \n...                              ...      ...              ...           ...   \n16714  Samurai Warriors: Sanada Maru      PS3           2016.0        Action   \n16715               LMA Manager 2007     X360           2006.0        Sports   \n16716        Haitaka no Psychedelica      PSV           2016.0     Adventure   \n16717               Spirits & Spells      GBA           2003.0      Platform   \n16718            Winning Post 8 2016      PSV           2016.0    Simulation   \n\n          Publisher  NA_Sales  EU_Sales  JP_Sales  Other_Sales  Global_Sales  \\\n0          Nintendo     41.36     28.96      3.77         8.45         82.53   \n1          Nintendo     29.08      3.58      6.81         0.77         40.24   \n2          Nintendo     15.68     12.76      3.79         3.29         35.52   \n3          Nintendo     15.61     10.93      3.28         2.95         32.77   \n4          Nintendo     11.27      8.89     10.22         1.00         31.37   \n...             ...       ...       ...       ...          ...           ...   \n16714    Tecmo Koei      0.00      0.00      0.01         0.00          0.01   \n16715   Codemasters      0.00      0.01      0.00         0.00          0.01   \n16716  Idea Factory      0.00      0.00      0.01         0.00          0.01   \n16717       Wanadoo      0.01      0.00      0.00         0.00          0.01   \n16718    Tecmo Koei      0.00      0.00      0.01         0.00          0.01   \n\n       Critic_Score  Critic_Count User_Score  User_Count Developer Rating  \n0              76.0          51.0          8       322.0  Nintendo      E  \n1               NaN           NaN       None         NaN      None   None  \n2              82.0          73.0        8.3       709.0  Nintendo      E  \n3              80.0          73.0          8       192.0  Nintendo      E  \n4               NaN           NaN       None         NaN      None   None  \n...             ...           ...        ...         ...       ...    ...  \n16714           NaN           NaN       None         NaN      None   None  \n16715           NaN           NaN       None         NaN      None   None  \n16716           NaN           NaN       None         NaN      None   None  \n16717           NaN           NaN       None         NaN      None   None  \n16718           NaN           NaN       None         NaN      None   None  \n\n[16719 rows x 16 columns]",
      "text/html": "<div>\n<style scoped>\n    .dataframe tbody tr th:only-of-type {\n        vertical-align: middle;\n    }\n\n    .dataframe tbody tr th {\n        vertical-align: top;\n    }\n\n    .dataframe thead th {\n        text-align: right;\n    }\n</style>\n<table border=\"1\" class=\"dataframe\">\n  <thead>\n    <tr style=\"text-align: right;\">\n      <th></th>\n      <th>Name</th>\n      <th>Platform</th>\n      <th>Year_of_Release</th>\n      <th>Genre</th>\n      <th>Publisher</th>\n      <th>NA_Sales</th>\n      <th>EU_Sales</th>\n      <th>JP_Sales</th>\n      <th>Other_Sales</th>\n      <th>Global_Sales</th>\n      <th>Critic_Score</th>\n      <th>Critic_Count</th>\n      <th>User_Score</th>\n      <th>User_Count</th>\n      <th>Developer</th>\n      <th>Rating</th>\n    </tr>\n  </thead>\n  <tbody>\n    <tr>\n      <th>0</th>\n      <td>Wii Sports</td>\n      <td>Wii</td>\n      <td>2006.0</td>\n      <td>Sports</td>\n      <td>Nintendo</td>\n      <td>41.36</td>\n      <td>28.96</td>\n      <td>3.77</td>\n      <td>8.45</td>\n      <td>82.53</td>\n      <td>76.0</td>\n      <td>51.0</td>\n      <td>8</td>\n      <td>322.0</td>\n      <td>Nintendo</td>\n      <td>E</td>\n    </tr>\n    <tr>\n      <th>1</th>\n      <td>Super Mario Bros.</td>\n      <td>NES</td>\n      <td>1985.0</td>\n      <td>Platform</td>\n      <td>Nintendo</td>\n      <td>29.08</td>\n      <td>3.58</td>\n      <td>6.81</td>\n      <td>0.77</td>\n      <td>40.24</td>\n      <td>NaN</td>\n      <td>NaN</td>\n      <td>None</td>\n      <td>NaN</td>\n      <td>None</td>\n      <td>None</td>\n    </tr>\n    <tr>\n      <th>2</th>\n      <td>Mario Kart Wii</td>\n      <td>Wii</td>\n      <td>2008.0</td>\n      <td>Racing</td>\n      <td>Nintendo</td>\n      <td>15.68</td>\n      <td>12.76</td>\n      <td>3.79</td>\n      <td>3.29</td>\n      <td>35.52</td>\n      <td>82.0</td>\n      <td>73.0</td>\n      <td>8.3</td>\n      <td>709.0</td>\n      <td>Nintendo</td>\n      <td>E</td>\n    </tr>\n    <tr>\n      <th>3</th>\n      <td>Wii Sports Resort</td>\n      <td>Wii</td>\n      <td>2009.0</td>\n      <td>Sports</td>\n      <td>Nintendo</td>\n      <td>15.61</td>\n      <td>10.93</td>\n      <td>3.28</td>\n      <td>2.95</td>\n      <td>32.77</td>\n      <td>80.0</td>\n      <td>73.0</td>\n      <td>8</td>\n      <td>192.0</td>\n      <td>Nintendo</td>\n      <td>E</td>\n    </tr>\n    <tr>\n      <th>4</th>\n      <td>Pokemon Red/Pokemon Blue</td>\n      <td>GB</td>\n      <td>1996.0</td>\n      <td>Role-Playing</td>\n      <td>Nintendo</td>\n      <td>11.27</td>\n      <td>8.89</td>\n      <td>10.22</td>\n      <td>1.00</td>\n      <td>31.37</td>\n      <td>NaN</td>\n      <td>NaN</td>\n      <td>None</td>\n      <td>NaN</td>\n      <td>None</td>\n      <td>None</td>\n    </tr>\n    <tr>\n      <th>...</th>\n      <td>...</td>\n      <td>...</td>\n      <td>...</td>\n      <td>...</td>\n      <td>...</td>\n      <td>...</td>\n      <td>...</td>\n      <td>...</td>\n      <td>...</td>\n      <td>...</td>\n      <td>...</td>\n      <td>...</td>\n      <td>...</td>\n      <td>...</td>\n      <td>...</td>\n      <td>...</td>\n    </tr>\n    <tr>\n      <th>16714</th>\n      <td>Samurai Warriors: Sanada Maru</td>\n      <td>PS3</td>\n      <td>2016.0</td>\n      <td>Action</td>\n      <td>Tecmo Koei</td>\n      <td>0.00</td>\n      <td>0.00</td>\n      <td>0.01</td>\n      <td>0.00</td>\n      <td>0.01</td>\n      <td>NaN</td>\n      <td>NaN</td>\n      <td>None</td>\n      <td>NaN</td>\n      <td>None</td>\n      <td>None</td>\n    </tr>\n    <tr>\n      <th>16715</th>\n      <td>LMA Manager 2007</td>\n      <td>X360</td>\n      <td>2006.0</td>\n      <td>Sports</td>\n      <td>Codemasters</td>\n      <td>0.00</td>\n      <td>0.01</td>\n      <td>0.00</td>\n      <td>0.00</td>\n      <td>0.01</td>\n      <td>NaN</td>\n      <td>NaN</td>\n      <td>None</td>\n      <td>NaN</td>\n      <td>None</td>\n      <td>None</td>\n    </tr>\n    <tr>\n      <th>16716</th>\n      <td>Haitaka no Psychedelica</td>\n      <td>PSV</td>\n      <td>2016.0</td>\n      <td>Adventure</td>\n      <td>Idea Factory</td>\n      <td>0.00</td>\n      <td>0.00</td>\n      <td>0.01</td>\n      <td>0.00</td>\n      <td>0.01</td>\n      <td>NaN</td>\n      <td>NaN</td>\n      <td>None</td>\n      <td>NaN</td>\n      <td>None</td>\n      <td>None</td>\n    </tr>\n    <tr>\n      <th>16717</th>\n      <td>Spirits &amp; Spells</td>\n      <td>GBA</td>\n      <td>2003.0</td>\n      <td>Platform</td>\n      <td>Wanadoo</td>\n      <td>0.01</td>\n      <td>0.00</td>\n      <td>0.00</td>\n      <td>0.00</td>\n      <td>0.01</td>\n      <td>NaN</td>\n      <td>NaN</td>\n      <td>None</td>\n      <td>NaN</td>\n      <td>None</td>\n      <td>None</td>\n    </tr>\n    <tr>\n      <th>16718</th>\n      <td>Winning Post 8 2016</td>\n      <td>PSV</td>\n      <td>2016.0</td>\n      <td>Simulation</td>\n      <td>Tecmo Koei</td>\n      <td>0.00</td>\n      <td>0.00</td>\n      <td>0.01</td>\n      <td>0.00</td>\n      <td>0.01</td>\n      <td>NaN</td>\n      <td>NaN</td>\n      <td>None</td>\n      <td>NaN</td>\n      <td>None</td>\n      <td>None</td>\n    </tr>\n  </tbody>\n</table>\n<p>16719 rows × 16 columns</p>\n</div>"
     },
     "metadata": {}
    }
   ],
   "execution_count": 19
  },
  {
   "cell_type": "markdown",
   "source": "<a style='text-decoration:none;line-height:16px;display:flex;color:#5B5B62;padding:10px;justify-content:end;' href='https://deepnote.com?utm_source=created-in-deepnote-cell&projectId=d7ea3c85-6a5a-4a78-8eab-42229bb50b82' target=\"_blank\">\n<img alt='Created in deepnote.com' style='display:inline;max-height:16px;margin:0px;margin-right:7.5px;' src='data:image/svg+xml;base64,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' > </img>\nCreated in <span style='font-weight:600;margin-left:4px;'>Deepnote</span></a>",
   "metadata": {
    "tags": [],
    "created_in_deepnote_cell": true,
    "deepnote_cell_type": "markdown"
   }
  }
 ],
 "nbformat": 4,
 "nbformat_minor": 2,
 "metadata": {
  "orig_nbformat": 2,
  "deepnote": {},
  "deepnote_notebook_id": "03535b77-1ec8-4323-bb66-ee2ec2976682",
  "deepnote_execution_queue": []
 }
}